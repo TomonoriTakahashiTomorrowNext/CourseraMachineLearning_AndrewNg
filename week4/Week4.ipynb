{
 "cells": [
  {
   "cell_type": "code",
   "execution_count": 32,
   "metadata": {
    "collapsed": false
   },
   "outputs": [
    {
     "name": "stdout",
     "output_type": "stream",
     "text": [
      "load done.\n",
      "(5000, 400)\n",
      "(5000, 1)\n",
      "(25, 401)\n",
      "(10, 26)\n"
     ]
    }
   ],
   "source": [
    "import pandas as pd\n",
    "X = pd.read_csv(\"week3_X.csv\", header=None).values\n",
    "y = pd.read_csv(\"week3_y.csv\", header=None).values\n",
    "Theta1 = pd.read_csv(\"week4_Theta1.csv\", header=None).values\n",
    "Theta2 = pd.read_csv(\"week4_Theta2.csv\", header=None).values\n",
    "print(\"load done.\")\n",
    "print(X.shape)\n",
    "print(y.shape)\n",
    "print(Theta1.shape)\n",
    "print(Theta2.shape)"
   ]
  },
  {
   "cell_type": "code",
   "execution_count": 46,
   "metadata": {
    "collapsed": false
   },
   "outputs": [
    {
     "name": "stdout",
     "output_type": "stream",
     "text": [
      "0.1\n"
     ]
    }
   ],
   "source": [
    "import numpy as np\n",
    "\n",
    "def sigmoid(z):\n",
    "    \"\"\"Sigmoid function\"\"\"\n",
    "    return 1.0 / (1.0 + np.exp(- z))\n",
    "\n",
    "def predict(X, Theta1, Theta2):\n",
    "    m = X.shape[0]\n",
    "    a1 = np.vstack((np.ones(m), X.T))\n",
    "    z2 = Theta1.dot(a1)\n",
    "    a2 = sigmoid(z2)\n",
    "\n",
    "    a2 = np.vstack((np.ones(m), a2))\n",
    "    z3 = Theta2.dot(a2)\n",
    "    a3 = sigmoid(z3)\n",
    "    \n",
    "    res = a3.T.argmax(axis = 1)\n",
    "    np.savetxt(\"a3T.csv\", a3.T, delimiter=\",\")\n",
    "    return res\n",
    "\n",
    "predicted = predict(X, Theta1, Theta2)\n",
    "np.savetxt(\"predicted.csv\", predicted)\n",
    "print((predicted == y).mean())\n"
   ]
  }
 ],
 "metadata": {
  "anaconda-cloud": {},
  "kernelspec": {
   "display_name": "Python [default]",
   "language": "python",
   "name": "python3"
  },
  "language_info": {
   "codemirror_mode": {
    "name": "ipython",
    "version": 3
   },
   "file_extension": ".py",
   "mimetype": "text/x-python",
   "name": "python",
   "nbconvert_exporter": "python",
   "pygments_lexer": "ipython3",
   "version": "3.5.2"
  }
 },
 "nbformat": 4,
 "nbformat_minor": 1
}
