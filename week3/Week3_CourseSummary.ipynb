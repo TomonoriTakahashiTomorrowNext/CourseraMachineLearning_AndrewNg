{
 "cells": [
  {
   "cell_type": "markdown",
   "metadata": {},
   "source": [
    "# Week3 分類問題（Classification problem）\n",
    "## 目的：新しいデータに対して、それがどの分類に入るかを予測したい。\n",
    "$x$ : 与えられたデータ\n",
    "\n",
    "$y$ : $x$からの予測\n",
    "### 例：10秒後にドル円相場は上がるか？下がるか？　を過去3分間1秒ごとのMidから予測したい\n",
    "\n",
    "学習に必要なデータ\n",
    "\n",
    "- $x_0^{(0)}, \\cdots, x_{180}^{(0)}$ : 2017.04.01T00:00:00～2017.04.01T00:03:00の1秒ごとのドル円レート\n",
    "- $x_0^{(1)}, \\cdots, x_{180}^{(1)}$ : 2017.04.01T00:00:01～2017.04.01T00:03:01の1秒ごとのドル円レート\n",
    "- $\\cdots$\n",
    "- $x_0^{(k)}, \\cdots, x_{180}^{(k)}$ : 2017.05.10T12:34:56～2017.05.10T12:37:56の1秒ごとのドル円レート\n",
    "- $\\cdots$\n",
    "- $x_0^{(m)}, \\cdots, x_{180}^{(m)}$ : 2017.05.26T23:57:00～2017.05.26T24:00:00の1秒ごとのドル円レート\n",
    "\n",
    "\n",
    "- $y^{(0)}$ : 2017.04.01T00:03:00から10秒後にマーケットが上がったら1、下がったら0\n",
    "- $\\cdots$\n",
    "- $y^{(m)}$ : 2017.05.27T00:00:00から10秒後にマーケットが上がったら1、下がったら0\n",
    "\n",
    "今から予測したいこと\n",
    "- $x_0, x_1, \\cdots, x_{180}$ : 3分前～現在の1秒おきのドル円レート\n",
    "- $y=0 今から10秒後に下がるなら0、上がるなら1$\n"
   ]
  },
  {
   "cell_type": "markdown",
   "metadata": {},
   "source": [
    "## 目標：新しいデータ$x$が与えられたときに、$y=1$である「確率」を知りたい\n",
    "\n",
    "- パラメータ$\\theta$、新しいデータ$x$が与えられたときに、$y=1$である確率を表す式$h_\\theta (x)$を次のように立てる。\n",
    "- $h_\\theta (x) = g(\\theta^T x)$\n",
    "- $g(z) = \\frac{1}{1 + e^{-x}}$\n",
    "\n",
    "$\\theta^T X$は前回やったのと同じだが、$\\theta^T X$のままだと$-\\infty$から$+\\infty$までの値をとりうるため、0~1の間に値をとるために$g(z) = \\frac{1}{1 + e^{-x}}$をかませる。\n",
    "\n"
   ]
  },
  {
   "cell_type": "code",
   "execution_count": 21,
   "metadata": {
    "collapsed": false
   },
   "outputs": [
    {
     "data": {
      "text/plain": [
       "[<matplotlib.lines.Line2D at 0x1d5010adba8>]"
      ]
     },
     "execution_count": 21,
     "metadata": {},
     "output_type": "execute_result"
    },
    {
     "data": {
      "image/png": "[encoded data removed]",
      "text/plain": [
       "<matplotlib.figure.Figure at 0x1d563bcac18>"
      ]
     },
     "metadata": {},
     "output_type": "display_data"
    }
   ],
   "source": [
    "import numpy as np\n",
    "%matplotlib inline\n",
    "import matplotlib.pyplot as plt\n",
    "\n",
    "x1 = 0.5 * np.sort(np.r_[np.arange(11), - np.arange(11)])\n",
    "y1 = 1 / (1 + np.exp(-x1))\n",
    "plt.plot(x1, y1)\n"
   ]
  },
  {
   "cell_type": "markdown",
   "metadata": {},
   "source": [
    "上のグラフからわかるように、\n",
    "- $g(z)$は0を中心として対称。\n",
    "- $z>0$のとき$g(z)>\\frac{1}{2}$。$z<0$のとき$g(z)<\\frac{1}{2}$。$z=0$のとき$g(z)=0.5$\n",
    "\n",
    "### これからやること\n",
    "\n",
    "- ①学習データ$\\{x_i^{(j)}\\}_{(i, j)}$からパラメータ$\\theta$を推計する。\n",
    "- ②新しいデータ$x=(x_0, \\cdots, x_n)$が与えられたときに、学習済みパラメータ$\\theta$を用いて\n",
    "$y = h_\\theta (x) = g(\\theta^T x) = \\frac{1}{1 + e^{- \\theta^T x}}$を計算する。\n",
    "- ③$y > 0$か$y < 0$かどうかを判断する。\n",
    "\n",
    "一番難しい（かつ、意味のある）のが①なので、このやり方を深掘り。\n",
    "\n",
    "### 前回（LinearRegression）はどうやったか\n",
    "- コスト関数$J(\\theta) = \\frac{1}{m} \\sum_{i = 1}^m Cost(x^{(i)}, y^{(i)})$を用意する。\n",
    "- Gradient descentでコスト関数$J(\\theta)$を最小にするパラメータ$\\theta$を求める。\n",
    "\n",
    "### 今回はどうするか\n",
    "基本戦略は同じ。ただし、コスト関数は次のように定義する。\n",
    "\n",
    "- $J(\\theta) = \\frac{1}{m} \\sum_{i = 1}^m Cost(h_\\theta (x^{(i)}), y^{(i)})$\n",
    "\n",
    "- $Cost(h_\\theta (x)), y) = - log (h_\\theta (x))$ if $y = 1$\n",
    "\n",
    "- $Cost(h_\\theta (x)), y) = - log (1 - h_\\theta (x))$ if $y = 0$\n",
    "\n",
    "さらに、上のように書くと面倒なので、一つの式にまとめると次のようになる。\n",
    "\n",
    "- $J(\\theta) = - \\frac{1}{m} \\sum_{i = 1}^m \\{ y^{(i)} log (h_\\theta (x^{(i)})) + (1 - y^{(i)}) log (1 - h_\\theta (x^{(i)})) \\}$\n",
    "\n",
    "Gradient Descentも同じ。今回はコスト関数の微分は次式。\n",
    "\n",
    "$\\frac{\\partial J(\\theta)}{\\partial \\theta _j} = \\frac{1}{m} \\sum_{i = 1}^m (h_\\theta (x^{(i)}) - y^{(i)}) x_j^{(i)}$\n",
    "\n",
    "あとは同じように逐次推計値$\\theta_j$を更新していけばよい。\n",
    "\n",
    "$\\theta_j := \\theta_j - \\frac{\\alpha}{m} \\sum_{i=1}^{m} ((h_\\theta (x^{(i)}) - y^{(i)}) x_j^{(i)}$\n",
    "\n",
    "\n",
    "\n"
   ]
  },
  {
   "cell_type": "markdown",
   "metadata": {},
   "source": [
    "## 多値分類問題\n",
    "$y=0$ or $1$ だけでなく、一般的にはもっと多くの分類をしたい。\n",
    "- 10秒後のドル円相場は　上がる（$y=1$）、下がる（$y=-1$）、変わらない（$y=0$）\n",
    "- 10秒後のドル円相場は　10銭以上上がる、5銭～10銭上がる、5銭以内で上がる、5銭以内で下がる、5～10銭下がる、10銭以上下がる\n",
    "\n",
    "### One-vs-All\n",
    "$h_\\theta (x) = g(\\theta^T x)$は$y=1$である確率を表すのだった。\n",
    "\n",
    "これを拡張して、$h_\\theta^{(0)} (x)$は$y=0$である確率を、$h_\\theta^{(1)} (x)$は$y=1$である確率を、$h_\\theta^{(2)} (x)$は$y=2$である確率を、それぞれ表すようにする。\n"
   ]
  },
  {
   "cell_type": "code",
   "execution_count": null,
   "metadata": {
    "collapsed": true
   },
   "outputs": [],
   "source": []
  },
  {
   "cell_type": "code",
   "execution_count": 31,
   "metadata": {
    "collapsed": false
   },
   "outputs": [
    {
     "name": "stdout",
     "output_type": "stream",
     "text": [
      "load done.\n",
      "(5000, 400)\n",
      "(5000,)\n"
     ]
    }
   ],
   "source": [
    "# data load OLD Version\n",
    "import csv\n",
    "f = open('week3_y.csv', 'r')\n",
    "dataReader = csv.reader(f)\n",
    "y = np.zeros(5000)\n",
    "i = 0\n",
    "for row in dataReader:\n",
    "    for c in row:\n",
    "        y[i] = float(c) # float(c) : 文字列cを実数値型に変換する\n",
    "    i = i + 1\n",
    "\n",
    "f = open('week3_X.csv', 'r')\n",
    "dataReader = csv.reader(f)\n",
    "X = np.zeros(5000 * 400).reshape(5000, 400)\n",
    "i = 0\n",
    "for row in dataReader:\n",
    "    j = 0\n",
    "    for c in row:\n",
    "        X[i, j] = float(c)\n",
    "        j = j + 1\n",
    "    i = i + 1\n",
    "\n",
    "print('load done.')\n",
    "print(X.shape)\n",
    "print(y.shape)"
   ]
  },
  {
   "cell_type": "code",
   "execution_count": 33,
   "metadata": {
    "collapsed": false
   },
   "outputs": [
    {
     "name": "stdout",
     "output_type": "stream",
     "text": [
      "load done.\n",
      "(5000, 400)\n",
      "(5000, 1)\n"
     ]
    }
   ],
   "source": [
    "# data load new version\n",
    "import pandas as pd\n",
    "X = pd.read_csv(\"week3_X.csv\", header=None).values\n",
    "y = pd.read_csv(\"week3_y.csv\", header=None).values\n",
    "print(\"load done.\")\n",
    "print(X.shape)\n",
    "print(y.shape)"
   ]
  },
  {
   "cell_type": "markdown",
   "metadata": {},
   "source": [
    "--- コスト関数$J(\\theta)$を定義\n",
    "\n",
    "以後、標本数を$m$、説明変数の数を$n$で表す。\n",
    "\n",
    "\\begin{eqnarray}\n",
    "J(\\theta) &=& \\frac{1}{m} \\sum_{i=1}^m \\{ - y^{(i)} \\log (h_\\theta (x^{(i)})) - (1 - y^{(i)}) \\log (1 - h_\\theta (x^{(i)}) ) \\} \\\\\n",
    "&=& \\frac{1}{m} \\sum_{i=1}^m \\{ - y^{(i)} \\log (g(\\theta^T x^{(i)})) - (1 - y^{(i)}) \\log (1 - g(\\theta^T x^{(i)})) \\} \\\\\n",
    "&=& \\frac{1}{m} \\sum_{i=1}^m \\{ - y^{(i)} \\log (g(x^{(i) T} \\theta)) - (1 - y^{(i)}) \\log (1 - g( x^{(i) T} \\theta)) \\}\n",
    "\\end{eqnarray}\n",
    "\n",
    "\\begin{eqnarray}\n",
    "    grad J = \n",
    "    \\begin{bmatrix}\n",
    "        \\frac{\\partial J}{\\partial \\theta_0} \\\\\n",
    "        \\frac{\\partial J}{\\partial \\theta_1} \\\\\n",
    "        \\cdots \\\\\n",
    "        \\frac{\\partial J}{\\partial \\theta_n} \\\\\n",
    "    \\end{bmatrix}\n",
    "    &=& \\frac{1}{m}\n",
    "    \\begin{bmatrix}\n",
    "        \\sum_{i=1}^m ((h_\\theta (x^{(i)}) - y^{(i)}) x_0^{(i)}) \\\\\n",
    "        \\sum_{i=1}^m ((h_\\theta (x^{(i)}) - y^{(i)}) x_1^{(i)}) \\\\\n",
    "        \\cdots \\\\\n",
    "        \\sum_{i=1}^m ((h_\\theta (x^{(i)}) - y^{(i)}) x_n^{(i)})\n",
    "    \\end{bmatrix} \\\\\n",
    "    &=& \\frac{1}{m} \\sum_{i = 1}^m ((h_\\theta (x^{(i)}) - y^{(i)}) x^{(i)}) \\\\\n",
    "    &=& \\frac{1}{m} X^T\n",
    "        \\begin{bmatrix}\n",
    "            h_\\theta (x^{(1)}) - y^{(1)} \\\\\n",
    "            h_\\theta (x^{(2)}) - y^{(2)} \\\\\n",
    "            \\cdots \\\\\n",
    "            h_\\theta (x^{(m)}) - y^{(m)} \\\\\n",
    "        \\end{bmatrix}\n",
    "\\end{eqnarray}"
   ]
  },
  {
   "cell_type": "code",
   "execution_count": 26,
   "metadata": {
    "collapsed": false
   },
   "outputs": [
    {
     "name": "stdout",
     "output_type": "stream",
     "text": [
      "0.5\n",
      "[ 0.26894142  0.5         0.73105858]\n"
     ]
    }
   ],
   "source": [
    "def sigmoid(z):\n",
    "    \"\"\"Sigmoid function\"\"\"\n",
    "    return 1.0 / (1.0 + np.exp(- z))\n",
    "\n",
    "# Test\n",
    "print(sigmoid(0.0))\n",
    "print(sigmoid(np.array([-1.0, 0.0, 1.0])))"
   ]
  },
  {
   "cell_type": "code",
   "execution_count": 27,
   "metadata": {
    "collapsed": false
   },
   "outputs": [
    {
     "name": "stdout",
     "output_type": "stream",
     "text": [
      "(3,)\n",
      "[ 1.  2.  3.]\n",
      "[ 0.  2.  4.]\n",
      "[-0. -1. -2.]\n",
      "[ 1.          2.71828183  7.3890561 ]\n",
      "[ 1.  2.]\n",
      "----\n",
      "(2, 3)\n",
      "[[0 1 2]\n",
      " [3 4 5]]\n",
      "[  5.  14.]\n",
      "----\n",
      "[0 1 0]\n"
     ]
    }
   ],
   "source": [
    "# Test\n",
    "a = np.array([0.0, 1.0, 2.0])\n",
    "print(a.shape)\n",
    "print(1 + a) # 配列の全ての要素に1を足す\n",
    "print(2 * a) # 配列の全ての要素に2を掛ける\n",
    "print(- a) # 配列の全ての要素の符号を反転\n",
    "print(np.exp(a)) # 配列の全ての要素のexpをとる\n",
    "print(a[1:]) # 配列の1番目以降からの要素を抜き取る（スライシング）\n",
    "print(\"----\")\n",
    "b = np.arange(6).reshape(2, 3) # 2x3行列\n",
    "print(b.shape)\n",
    "print(b)\n",
    "print(b.dot(a)) # 行列演算として（2x3行列）と（3x1行列）を掛ける。自動的に配列を3x1行列とみなすらしい\n",
    "print(\"----\")\n",
    "print((a == 1) + 0)"
   ]
  },
  {
   "cell_type": "code",
   "execution_count": 34,
   "metadata": {
    "collapsed": false
   },
   "outputs": [
    {
     "name": "stdout",
     "output_type": "stream",
     "text": [
      "(400, 5000)\n",
      "(400,)\n"
     ]
    },
    {
     "ename": "ValueError",
     "evalue": "operands could not be broadcast together with shapes (399,5000) (399,) (399,5000) ",
     "output_type": "error",
     "traceback": [
      "\u001b[0;31m---------------------------------------------------------------------------\u001b[0m",
      "\u001b[0;31mValueError\u001b[0m                                Traceback (most recent call last)",
      "\u001b[0;32m<ipython-input-34-2cdb5b36664e>\u001b[0m in \u001b[0;36m<module>\u001b[0;34m()\u001b[0m\n\u001b[1;32m     21\u001b[0m \u001b[0mtheta\u001b[0m \u001b[1;33m=\u001b[0m \u001b[0mnp\u001b[0m\u001b[1;33m.\u001b[0m\u001b[0mzeros\u001b[0m\u001b[1;33m(\u001b[0m\u001b[0mX\u001b[0m\u001b[1;33m.\u001b[0m\u001b[0mshape\u001b[0m\u001b[1;33m[\u001b[0m\u001b[1;36m1\u001b[0m\u001b[1;33m]\u001b[0m\u001b[1;33m)\u001b[0m\u001b[1;33m\u001b[0m\u001b[0m\n\u001b[1;32m     22\u001b[0m \u001b[0mJ\u001b[0m \u001b[1;33m=\u001b[0m \u001b[0mlrCostFunction\u001b[0m\u001b[1;33m(\u001b[0m\u001b[0mtheta\u001b[0m\u001b[1;33m,\u001b[0m \u001b[0mX\u001b[0m\u001b[1;33m,\u001b[0m \u001b[0my\u001b[0m\u001b[1;33m,\u001b[0m \u001b[1;36m0.0\u001b[0m\u001b[1;33m)\u001b[0m\u001b[1;33m\u001b[0m\u001b[0m\n\u001b[0;32m---> 23\u001b[0;31m \u001b[0mgrad\u001b[0m \u001b[1;33m=\u001b[0m \u001b[0mlrCostFunctionGrad\u001b[0m\u001b[1;33m(\u001b[0m\u001b[0mtheta\u001b[0m\u001b[1;33m,\u001b[0m \u001b[0mX\u001b[0m\u001b[1;33m,\u001b[0m \u001b[0my\u001b[0m\u001b[1;33m,\u001b[0m \u001b[1;36m0.0\u001b[0m\u001b[1;33m)\u001b[0m\u001b[1;33m\u001b[0m\u001b[0m\n\u001b[0m\u001b[1;32m     24\u001b[0m \u001b[0mprint\u001b[0m\u001b[1;33m(\u001b[0m\u001b[0mgrad\u001b[0m\u001b[1;33m.\u001b[0m\u001b[0mshape\u001b[0m\u001b[1;33m)\u001b[0m\u001b[1;33m\u001b[0m\u001b[0m\n",
      "\u001b[0;32m<ipython-input-34-2cdb5b36664e>\u001b[0m in \u001b[0;36mlrCostFunctionGrad\u001b[0;34m(theta, X, y, _lambda)\u001b[0m\n\u001b[1;32m     15\u001b[0m     \u001b[0mprint\u001b[0m\u001b[1;33m(\u001b[0m\u001b[0mgrad\u001b[0m\u001b[1;33m.\u001b[0m\u001b[0mshape\u001b[0m\u001b[1;33m)\u001b[0m\u001b[1;33m\u001b[0m\u001b[0m\n\u001b[1;32m     16\u001b[0m     \u001b[0mprint\u001b[0m\u001b[1;33m(\u001b[0m\u001b[0mtheta\u001b[0m\u001b[1;33m.\u001b[0m\u001b[0mshape\u001b[0m\u001b[1;33m)\u001b[0m\u001b[1;33m\u001b[0m\u001b[0m\n\u001b[0;32m---> 17\u001b[0;31m     \u001b[0mgrad\u001b[0m\u001b[1;33m[\u001b[0m\u001b[1;36m1\u001b[0m\u001b[1;33m:\u001b[0m\u001b[1;33m]\u001b[0m \u001b[1;33m+=\u001b[0m \u001b[1;33m(\u001b[0m\u001b[0m_lambda\u001b[0m \u001b[1;33m/\u001b[0m \u001b[0mm\u001b[0m\u001b[1;33m)\u001b[0m \u001b[1;33m*\u001b[0m \u001b[0mtheta\u001b[0m\u001b[1;33m[\u001b[0m\u001b[1;36m1\u001b[0m\u001b[1;33m:\u001b[0m\u001b[1;33m]\u001b[0m \u001b[1;31m# Regularized term\u001b[0m\u001b[1;33m\u001b[0m\u001b[0m\n\u001b[0m\u001b[1;32m     18\u001b[0m     \u001b[1;32mreturn\u001b[0m \u001b[0mgrad\u001b[0m\u001b[1;33m\u001b[0m\u001b[0m\n\u001b[1;32m     19\u001b[0m \u001b[1;33m\u001b[0m\u001b[0m\n",
      "\u001b[0;31mValueError\u001b[0m: operands could not be broadcast together with shapes (399,5000) (399,) (399,5000) "
     ]
    }
   ],
   "source": [
    "def lrCostFunction(theta, X, y, _lambda):\n",
    "    # コスト関数の本体\n",
    "    h_theta_X = sigmoid(X.dot(theta)) # (\\theta^T x^{(i)})_i\n",
    "    J = np.sum(- y * np.log(h_theta_X) - (1 - y) * np.log(1.0 - h_theta_X))\n",
    "    m = X.shape[0]\n",
    "    J /= m\n",
    "    # Regularized term\n",
    "    J += 0.5 * (_lambda / m) * np.sum(np.square(theta[1:])) # 0番目要素は入れない\n",
    "    return J\n",
    "\n",
    "def lrCostFunctionGrad(theta, X, y, _lambda):\n",
    "    h_theta_X = sigmoid(X.dot(theta))\n",
    "    m = X.shape[0]\n",
    "    grad = (X.T).dot(h_theta_X - y) / m\n",
    "    print(grad.shape)\n",
    "    print(theta.shape)\n",
    "    grad[1:] += (_lambda / m) * theta[1:] # Regularized term\n",
    "    return grad\n",
    "\n",
    "# Test\n",
    "theta = np.zeros(X.shape[1])\n",
    "J = lrCostFunction(theta, X, y, 0.0)\n",
    "grad = lrCostFunctionGrad(theta, X, y, 0.0)\n",
    "print(grad.shape)"
   ]
  },
  {
   "cell_type": "code",
   "execution_count": 10,
   "metadata": {
    "collapsed": false
   },
   "outputs": [],
   "source": [
    "import scipy.optimize as spo\n",
    "import pandas as pd\n",
    "def lrCostFunction_Wrapper(param, *args):\n",
    "    \"\"\"lrCostFunctionをfmin_cgに通すためのラッパー関数\"\"\"\n",
    "    theta = param\n",
    "    X, y, _lambda = args\n",
    "    return lrCostFunction(theta, X, y, _lambda)\n",
    "\n",
    "def lrCostFunctionGrad_Wrapper(param, *args):\n",
    "    \"\"\"lrCostFunctionGradをfmin_cgに通すためのラッパー関数\"\"\"\n",
    "    theta = param\n",
    "    X, y, _lambda = args\n",
    "    return lrCostFunctionGrad(theta, X, y, _lambda)\n",
    "\n",
    "def oneVsAll(X, y, num_labels, _lambda):\n",
    "    m = X.shape[0]\n",
    "    n = X.shape[1]\n",
    "    allTheta = np.zeros((num_labels, n + 1)) # 求めるべき\\theta 0~9までの10個分、各400+1個。（+1個はBias項）\n",
    "    X = np.concatenate((np.ones((m, 1)), X), axis = 1) # XにBias項相当のデータ(-1)を追加\n",
    "    for i in range(0, num_labels):\n",
    "        initialTheta = np.ones((n + 1, 1)) # 当初は初期値0でやっていたものの、収束がよくないので初期値1に変更。\n",
    "        y_zero_or_one = (y == i) + 0\n",
    "        # np.savetxt(\"y_\" + str(i) + \".csv\", y_zero_or_one, delimiter=\"\\n\")\n",
    "        args = X, y_zero_or_one, _lambda\n",
    "        resultTheta = spo.fmin_cg(lrCostFunction_Wrapper, initialTheta, fprime=lrCostFunctionGrad_Wrapper, args=args)\n",
    "        allTheta[i, :] = resultTheta\n",
    "    return allTheta"
   ]
  },
  {
   "cell_type": "code",
   "execution_count": 13,
   "metadata": {
    "collapsed": false
   },
   "outputs": [
    {
     "name": "stdout",
     "output_type": "stream",
     "text": [
      "Optimization terminated successfully.\n",
      "         Current function value: 0.008570\n",
      "         Iterations: 133\n",
      "         Function evaluations: 535\n",
      "         Gradient evaluations: 535\n",
      "Optimization terminated successfully.\n",
      "         Current function value: 0.013138\n",
      "         Iterations: 140\n",
      "         Function evaluations: 535\n",
      "         Gradient evaluations: 535\n",
      "Optimization terminated successfully.\n",
      "         Current function value: 0.050833\n",
      "         Iterations: 230\n",
      "         Function evaluations: 729\n",
      "         Gradient evaluations: 729\n",
      "Optimization terminated successfully.\n",
      "         Current function value: 0.057612\n",
      "         Iterations: 261\n",
      "         Function evaluations: 806\n",
      "         Gradient evaluations: 806\n",
      "Optimization terminated successfully.\n",
      "         Current function value: 0.033093\n",
      "         Iterations: 207\n",
      "         Function evaluations: 688\n",
      "         Gradient evaluations: 688\n",
      "Optimization terminated successfully.\n",
      "         Current function value: 0.054519\n",
      "         Iterations: 236\n",
      "         Function evaluations: 725\n",
      "         Gradient evaluations: 725\n",
      "Optimization terminated successfully.\n",
      "         Current function value: 0.018262\n",
      "         Iterations: 174\n",
      "         Function evaluations: 656\n",
      "         Gradient evaluations: 656\n",
      "Optimization terminated successfully.\n",
      "         Current function value: 0.030648\n",
      "         Iterations: 211\n",
      "         Function evaluations: 707\n",
      "         Gradient evaluations: 707\n",
      "Optimization terminated successfully.\n",
      "         Current function value: 0.078455\n",
      "         Iterations: 331\n",
      "         Function evaluations: 943\n",
      "         Gradient evaluations: 943\n",
      "Optimization terminated successfully.\n",
      "         Current function value: 0.071198\n",
      "         Iterations: 294\n",
      "         Function evaluations: 867\n",
      "         Gradient evaluations: 867\n",
      "Optimization was done.\n"
     ]
    }
   ],
   "source": [
    "# training\n",
    "_lambda = 0.1\n",
    "allTheta = oneVsAll(X, y, 10, _lambda)\n",
    "print('Optimization was done.')"
   ]
  },
  {
   "cell_type": "code",
   "execution_count": 14,
   "metadata": {
    "collapsed": false
   },
   "outputs": [
    {
     "name": "stdout",
     "output_type": "stream",
     "text": [
      "0.9646\n"
     ]
    }
   ],
   "source": [
    "# prediction\n",
    "def predictOneVsAll(allTheta, X):\n",
    "    m = X.shape[0]\n",
    "    X = np.concatenate((np.ones((m, 1)), X), axis = 1)\n",
    "    prob = sigmoid(X.dot(allTheta.T))\n",
    "    res = prob.argmax(axis = 1)\n",
    "    return res\n",
    "\n",
    "predicted = predictOneVsAll(allTheta, X)\n",
    "np.savetxt(\"predicted.csv\", predicted, delimiter=\"\\n\")\n",
    "print(((predicted == y) + 0).mean())"
   ]
  }
 ],
 "metadata": {
  "anaconda-cloud": {},
  "kernelspec": {
   "display_name": "Python [default]",
   "language": "python",
   "name": "python3"
  },
  "language_info": {
   "codemirror_mode": {
    "name": "ipython",
    "version": 3
   },
   "file_extension": ".py",
   "mimetype": "text/x-python",
   "name": "python",
   "nbconvert_exporter": "python",
   "pygments_lexer": "ipython3",
   "version": "3.5.2"
  }
 },
 "nbformat": 4,
 "nbformat_minor": 1
}
